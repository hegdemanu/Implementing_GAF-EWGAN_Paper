
{
 "cells": [
  {
   "cell_type": "markdown",
   "metadata": {},
   "source": [
    "# Data Preparation Example\n",
    "This notebook demonstrates how to prepare stock data for the GAF-EWGAN model."
   ]
  },
  {
   "cell_type": "code",
   "execution_count": null,
   "metadata": {},
   "source": [
    "import sys\n",
    "sys.path.append('..')\n",
    "\n",
    "from preprocessing.data_loader import StockDataLoader\n",
    "import yaml\n",
    "import matplotlib.pyplot as plt\n",
    "\n",
    "# Load configuration\n",
    "with open('../config.yaml') as f:\n",
    "    config = yaml.safe_load(f)\n",
    "\n",
    "# Initialize data loader\n",
    "data_loader = StockDataLoader(config['alpha_vantage_key'])\n",
    "\n",
    "# Fetch and process data for one symbol\n",
    "raw_data = data_loader.fetch_data('AAPL')\n",
    "processed_data = data_loader.process_data(raw_data)\n",
    "\n",
    "# Visualize GAF transformation\n",
    "plt.figure(figsize=(12, 4))\n",
    "plt.subplot(1, 2, 1)\n",
    "plt.plot(raw_data['close'][-60:])\n",
    "plt.title('Original Price Data')\n",
    "\n",
    "plt.subplot(1, 2, 2)\n",
    "plt.imshow(processed_data['gaf_data'][0], cmap='viridis')\n",
    "plt.title('GAF Transformation')\n",
    "plt.colorbar()\n",
    "plt.show()"
   ]
  }
 ]
}
